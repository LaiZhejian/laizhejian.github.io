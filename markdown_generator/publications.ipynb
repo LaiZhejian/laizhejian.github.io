{
 "cells": [
  {
   "cell_type": "markdown",
   "metadata": {
    "deletable": true,
    "editable": true
   },
   "source": [
    "# Publications markdown generator for academicpages\n",
    "\n",
    "Takes a TSV of publications with metadata and converts them for use with [academicpages.github.io](academicpages.github.io). This is an interactive Jupyter notebook ([see more info here](http://jupyter-notebook-beginner-guide.readthedocs.io/en/latest/what_is_jupyter.html)). The core python code is also in `publications.py`. Run either from the `markdown_generator` folder after replacing `publications.tsv` with one containing your data.\n",
    "\n",
    "TODO: Make this work with BibTex and other databases of citations, rather than Stuart's non-standard TSV format and citation style.\n"
   ]
  },
  {
   "cell_type": "markdown",
   "metadata": {},
   "source": [
    "## Data format\n",
    "\n",
    "The TSV needs to have the following columns: pub_date, title, venue, excerpt, citation, site_url, and paper_url, with a header at the top. \n",
    "\n",
    "- `excerpt` and `paper_url` can be blank, but the others must have values. \n",
    "- `pub_date` must be formatted as YYYY-MM-DD.\n",
    "- `url_slug` will be the descriptive part of the .md file and the permalink URL for the page about the paper. The .md file will be `YYYY-MM-DD-[url_slug].md` and the permalink will be `https://[yourdomain]/publications/YYYY-MM-DD-[url_slug]`\n",
    "\n",
    "This is how the raw file looks (it doesn't look pretty, use a spreadsheet or other program to edit and create)."
   ]
  },
  {
   "cell_type": "code",
   "execution_count": 7,
   "metadata": {
    "collapsed": false
   },
   "outputs": [
    {
     "name": "stdout",
     "output_type": "stream",
     "text": [
      "pub_date\ttitle\tvenue\texcerpt\tcitation\turl_slug\tpaper_url\tslides_url\n",
      "2024-02\tAlleviating Distribution Shift in Synthetic Data for Machine Translation Quality Estimation\tPreprint\t\tXiang Geng, Zhejian Lai, Jiajun Chen, Hao Yang, and Shujian Huang. 2025. Alleviating Distribution Shift in Synthetic Data for Machine Translation Quality Estimation. <i>arXiv preprint arXiv:2502.19941</i>.\tADSQE\thttps://arxiv.org/pdf/2502.19941\t\n",
      "2024-02\tWhy Not Transform Chat Large Language Models to Non-English?\tPreprint\t\tXiang Geng, Ming Zhu, Jiahuan Li, Zhejian Lai, Wei Zou, Shuaijie She, Jiaxin Guo, Xiaofeng Zhao, Yinglu Li, Yuang Li, Chang Su, Yanqing Zhao, Xinglin Lyu, Min Zhang, Jiajun Chen, Hao Yang, and Shujian Huang. 2024. Why Not Transform Chat Large Language Models to Non-English? <i>arXiv preprint arXiv:2405.13923</i>.\ttransLLM\thttps://arxiv.org/pdf/2405.13923\t\n",
      "2023-12\tUnify word-level and span-level tasks: NJUNLP’s Participation for the WMT2023 Quality Estimation Shared Task\tWMT2023 Shared Task\t\tXiang Geng, Zhejian Lai, Yu Zhang, Shimin Tao, Hao Yang, Jiajun Chen, and Shujian Huang. 2023. Unify Word-level and Span-level Tasks: NJUNLP’s Participation for the WMT2023 Quality Estimation Shared Task. <i>In Proceedings of the Eighth Conference on Machine Translation</i>, pages 829–834, Singapore. Association for Computational Linguistics.\tMQMQE\thttps://arxiv.org/pdf/2309.13230\t\n",
      "2023-12\tImproved pseudo data for machine translation quality estimation with constrained beam search\tEMNLP 2023\t\tXiang Geng, Yu Zhang, Zhejian Lai, Shuaijie She, Wei Zou, Shimin Tao, Hao Yang, Jiajun Chen, and Shujian Huang. 2023. Improved Pseudo Data for Machine Translation Quality Estimation with Constrained Beam Search. <i>In Proceedings of the 2023 Conference on Empirical Methods in Natural Language Processing</i>, pages 12434–12447, Singapore. Association for Computational Linguistics.\tCBSQE\thttps://aclanthology.org/2023.emnlp-main.764.pdf\t"
     ]
    }
   ],
   "source": [
    "!cat publications.tsv"
   ]
  },
  {
   "cell_type": "markdown",
   "metadata": {},
   "source": [
    "## Import pandas\n",
    "\n",
    "We are using the very handy pandas library for dataframes."
   ]
  },
  {
   "cell_type": "code",
   "execution_count": 8,
   "metadata": {
    "collapsed": true,
    "deletable": true,
    "editable": true
   },
   "outputs": [],
   "source": [
    "import pandas as pd"
   ]
  },
  {
   "cell_type": "markdown",
   "metadata": {},
   "source": [
    "## Import TSV\n",
    "\n",
    "Pandas makes this easy with the read_csv function. We are using a TSV, so we specify the separator as a tab, or `\\t`.\n",
    "\n",
    "I found it important to put this data in a tab-separated values format, because there are a lot of commas in this kind of data and comma-separated values can get messed up. However, you can modify the import statement, as pandas also has read_excel(), read_json(), and others."
   ]
  },
  {
   "cell_type": "code",
   "execution_count": 9,
   "metadata": {
    "collapsed": false,
    "deletable": true,
    "editable": true
   },
   "outputs": [
    {
     "data": {
      "text/html": [
       "<div>\n",
       "<style scoped>\n",
       "    .dataframe tbody tr th:only-of-type {\n",
       "        vertical-align: middle;\n",
       "    }\n",
       "\n",
       "    .dataframe tbody tr th {\n",
       "        vertical-align: top;\n",
       "    }\n",
       "\n",
       "    .dataframe thead th {\n",
       "        text-align: right;\n",
       "    }\n",
       "</style>\n",
       "<table border=\"1\" class=\"dataframe\">\n",
       "  <thead>\n",
       "    <tr style=\"text-align: right;\">\n",
       "      <th></th>\n",
       "      <th>pub_date</th>\n",
       "      <th>title</th>\n",
       "      <th>venue</th>\n",
       "      <th>excerpt</th>\n",
       "      <th>citation</th>\n",
       "      <th>url_slug</th>\n",
       "      <th>paper_url</th>\n",
       "      <th>slides_url</th>\n",
       "    </tr>\n",
       "  </thead>\n",
       "  <tbody>\n",
       "    <tr>\n",
       "      <th>0</th>\n",
       "      <td>2024-02</td>\n",
       "      <td>Alleviating Distribution Shift in Synthetic Da...</td>\n",
       "      <td>Preprint</td>\n",
       "      <td>NaN</td>\n",
       "      <td>Xiang Geng, Zhejian Lai, Jiajun Chen, Hao Yang...</td>\n",
       "      <td>ADSQE</td>\n",
       "      <td>https://arxiv.org/pdf/2502.19941</td>\n",
       "      <td>NaN</td>\n",
       "    </tr>\n",
       "    <tr>\n",
       "      <th>1</th>\n",
       "      <td>2024-02</td>\n",
       "      <td>Why Not Transform Chat Large Language Models t...</td>\n",
       "      <td>Preprint</td>\n",
       "      <td>NaN</td>\n",
       "      <td>Xiang Geng, Ming Zhu, Jiahuan Li, Zhejian Lai,...</td>\n",
       "      <td>transLLM</td>\n",
       "      <td>https://arxiv.org/pdf/2405.13923</td>\n",
       "      <td>NaN</td>\n",
       "    </tr>\n",
       "    <tr>\n",
       "      <th>2</th>\n",
       "      <td>2023-12</td>\n",
       "      <td>Unify word-level and span-level tasks: NJUNLP’...</td>\n",
       "      <td>WMT2023 Shared Task</td>\n",
       "      <td>NaN</td>\n",
       "      <td>Xiang Geng, Zhejian Lai, Yu Zhang, Shimin Tao,...</td>\n",
       "      <td>MQMQE</td>\n",
       "      <td>https://arxiv.org/pdf/2309.13230</td>\n",
       "      <td>NaN</td>\n",
       "    </tr>\n",
       "    <tr>\n",
       "      <th>3</th>\n",
       "      <td>2023-12</td>\n",
       "      <td>Improved pseudo data for machine translation q...</td>\n",
       "      <td>EMNLP 2023</td>\n",
       "      <td>NaN</td>\n",
       "      <td>Xiang Geng, Yu Zhang, Zhejian Lai, Shuaijie Sh...</td>\n",
       "      <td>CBSQE</td>\n",
       "      <td>https://aclanthology.org/2023.emnlp-main.764.pdf</td>\n",
       "      <td>NaN</td>\n",
       "    </tr>\n",
       "  </tbody>\n",
       "</table>\n",
       "</div>"
      ],
      "text/plain": [
       "  pub_date                                              title  \\\n",
       "0  2024-02  Alleviating Distribution Shift in Synthetic Da...   \n",
       "1  2024-02  Why Not Transform Chat Large Language Models t...   \n",
       "2  2023-12  Unify word-level and span-level tasks: NJUNLP’...   \n",
       "3  2023-12  Improved pseudo data for machine translation q...   \n",
       "\n",
       "                 venue  excerpt  \\\n",
       "0             Preprint      NaN   \n",
       "1             Preprint      NaN   \n",
       "2  WMT2023 Shared Task      NaN   \n",
       "3           EMNLP 2023      NaN   \n",
       "\n",
       "                                            citation  url_slug  \\\n",
       "0  Xiang Geng, Zhejian Lai, Jiajun Chen, Hao Yang...     ADSQE   \n",
       "1  Xiang Geng, Ming Zhu, Jiahuan Li, Zhejian Lai,...  transLLM   \n",
       "2  Xiang Geng, Zhejian Lai, Yu Zhang, Shimin Tao,...     MQMQE   \n",
       "3  Xiang Geng, Yu Zhang, Zhejian Lai, Shuaijie Sh...     CBSQE   \n",
       "\n",
       "                                          paper_url  slides_url  \n",
       "0                  https://arxiv.org/pdf/2502.19941         NaN  \n",
       "1                  https://arxiv.org/pdf/2405.13923         NaN  \n",
       "2                  https://arxiv.org/pdf/2309.13230         NaN  \n",
       "3  https://aclanthology.org/2023.emnlp-main.764.pdf         NaN  "
      ]
     },
     "execution_count": 9,
     "metadata": {},
     "output_type": "execute_result"
    }
   ],
   "source": [
    "publications = pd.read_csv(\"publications.tsv\", sep=\"\\t\", header=0)\n",
    "publications\n"
   ]
  },
  {
   "cell_type": "markdown",
   "metadata": {},
   "source": [
    "## Escape special characters\n",
    "\n",
    "YAML is very picky about how it takes a valid string, so we are replacing single and double quotes (and ampersands) with their HTML encoded equivilents. This makes them look not so readable in raw format, but they are parsed and rendered nicely."
   ]
  },
  {
   "cell_type": "code",
   "execution_count": 10,
   "metadata": {
    "collapsed": true,
    "deletable": true,
    "editable": true
   },
   "outputs": [],
   "source": [
    "html_escape_table = {\n",
    "    \"&\": \"&amp;\",\n",
    "    '\"': \"&quot;\",\n",
    "    \"'\": \"&apos;\"\n",
    "    }\n",
    "\n",
    "def html_escape(text):\n",
    "    \"\"\"Produce entities within text.\"\"\"\n",
    "    return \"\".join(html_escape_table.get(c,c) for c in text)"
   ]
  },
  {
   "cell_type": "markdown",
   "metadata": {},
   "source": [
    "## Creating the markdown files\n",
    "\n",
    "This is where the heavy lifting is done. This loops through all the rows in the TSV dataframe, then starts to concatentate a big string (```md```) that contains the markdown for each type. It does the YAML metadata first, then does the description for the individual page."
   ]
  },
  {
   "cell_type": "code",
   "execution_count": 11,
   "metadata": {
    "collapsed": false,
    "deletable": true,
    "editable": true
   },
   "outputs": [],
   "source": [
    "import os\n",
    "for row, item in publications.iterrows():\n",
    "    \n",
    "    md_filename = str(item.pub_date) + \"-\" + item.url_slug + \".md\"\n",
    "    html_filename = str(item.pub_date) + \"-\" + item.url_slug\n",
    "    year = item.pub_date[:4]\n",
    "    \n",
    "    ## YAML variables\n",
    "    \n",
    "    md = \"---\\ntitle: \\\"\"   + item.title + '\"\\n'\n",
    "    \n",
    "    md += \"\"\"collection: publications\"\"\"\n",
    "    \n",
    "    md += \"\"\"\\npermalink: /publication/\"\"\" + html_filename\n",
    "    \n",
    "    if len(str(item.excerpt)) > 5:\n",
    "        md += \"\\nexcerpt: '\" + html_escape(item.excerpt) + \"'\"\n",
    "    \n",
    "    md += \"\\ndate: \" + str(item.pub_date) \n",
    "    \n",
    "    md += \"\\nvenue: '\" + html_escape(item.venue) + \"'\"\n",
    "    \n",
    "    if len(str(item.slides_url)) > 5:\n",
    "        md += \"\\nslidesurl: '\" + item.slides_url + \"'\"\n",
    "\n",
    "    if len(str(item.paper_url)) > 5:\n",
    "        md += \"\\npaperurl: '\" + item.paper_url + \"'\"\n",
    "    \n",
    "    md += \"\\ncitation: '\" + html_escape(item.citation) + \"'\"\n",
    "    \n",
    "    md += \"\\n---\"\n",
    "    \n",
    "    ## Markdown description for individual page\n",
    "        \n",
    "    if len(str(item.excerpt)) > 5:\n",
    "        md += \"\\n\" + html_escape(item.excerpt) + \"\\n\"\n",
    "\n",
    "    if len(str(item.slides_url)) > 5:\n",
    "        md += \"\\n[Download slides here](\" + item.slides_url + \")\\n\" \n",
    "\n",
    "    if len(str(item.paper_url)) > 5:\n",
    "        md += \"\\n[Download paper here](\" + item.paper_url + \")\\n\" \n",
    "        \n",
    "    md += \"\\nRecommended citation: \" + item.citation\n",
    "    \n",
    "    md_filename = os.path.basename(md_filename)\n",
    "       \n",
    "    with open(\"../_publications/\" + md_filename, 'w') as f:\n",
    "        f.write(md)"
   ]
  },
  {
   "cell_type": "markdown",
   "metadata": {},
   "source": [
    "These files are in the publications directory, one directory below where we're working from."
   ]
  },
  {
   "cell_type": "code",
   "execution_count": 12,
   "metadata": {
    "collapsed": false,
    "deletable": true,
    "editable": true
   },
   "outputs": [
    {
     "name": "stdout",
     "output_type": "stream",
     "text": [
      "2009-10-01-paper-title-number-1.md 2023-12-MQMQE.md\n",
      "2010-10-01-paper-title-number-2.md 2024-02-17-paper-title-number-4.md\n",
      "2015-10-01-paper-title-number-3.md 2024-02-ADSQE.md\n",
      "2023-12-CBSQE.md                   2024-02-transLLM.md\n"
     ]
    }
   ],
   "source": [
    "!ls ../_publications/"
   ]
  },
  {
   "cell_type": "code",
   "execution_count": 13,
   "metadata": {
    "collapsed": false,
    "deletable": true,
    "editable": true
   },
   "outputs": [
    {
     "name": "stdout",
     "output_type": "stream",
     "text": [
      "---\n",
      "title: \"Paper Title Number 1\"\n",
      "collection: publications\n",
      "category: manuscripts\n",
      "permalink: /publication/2009-10-01-paper-title-number-1\n",
      "excerpt: 'This paper is about the number 1. The number 2 is left for future work.'\n",
      "date: 2009-10-01\n",
      "venue: 'Journal 1'\n",
      "slidesurl: 'http://academicpages.github.io/files/slides1.pdf'\n",
      "paperurl: 'http://academicpages.github.io/files/paper1.pdf'\n",
      "bibtexurl: 'http://academicpages.github.io/files/bibtex1.bib'\n",
      "citation: 'Your Name, You. (2009). &quot;Paper Title Number 1.&quot; <i>Journal 1</i>. 1(1).'\n",
      "---\n",
      "The contents above will be part of a list of publications, if the user clicks the link for the publication than the contents of section will be rendered as a full page, allowing you to provide more information about the paper for the reader. When publications are displayed as a single page, the contents of the above \"citation\" field will automatically be included below this section in a smaller font.\n"
     ]
    }
   ],
   "source": [
    "!cat ../_publications/2009-10-01-paper-title-number-1.md"
   ]
  },
  {
   "cell_type": "code",
   "execution_count": null,
   "metadata": {
    "collapsed": true,
    "deletable": true,
    "editable": true
   },
   "outputs": [],
   "source": []
  }
 ],
 "metadata": {
  "kernelspec": {
   "display_name": "py310",
   "language": "python",
   "name": "python3"
  },
  "language_info": {
   "codemirror_mode": {
    "name": "ipython",
    "version": 3
   },
   "file_extension": ".py",
   "mimetype": "text/x-python",
   "name": "python",
   "nbconvert_exporter": "python",
   "pygments_lexer": "ipython3",
   "version": "3.10.14"
  }
 },
 "nbformat": 4,
 "nbformat_minor": 0
}
